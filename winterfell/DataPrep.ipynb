{
 "cells": [
  {
   "cell_type": "code",
   "execution_count": 3,
   "metadata": {},
   "outputs": [],
   "source": [
    "import pandas as pd"
   ]
  },
  {
   "cell_type": "code",
   "execution_count": 33,
   "metadata": {},
   "outputs": [],
   "source": [
    "train = pd.read_csv('../chat_data/train/train.seq.in', header = None, names=['sentence'])\n",
    "intent = pd.read_csv('../chat_data/train/train.label', header = None, names=['intent'])\n",
    "train['label'] = intent\n",
    "test = pd.read_csv('../chat_data/test/test.seq.in', header = None, names=['sentence'])\n",
    "t_intent = pd.read_csv('../chat_data/test/test.label', header = None, names=['intent'])\n",
    "test['label'] = t_intent\n"
   ]
  },
  {
   "cell_type": "code",
   "execution_count": 51,
   "metadata": {},
   "outputs": [
    {
     "name": "stdout",
     "output_type": "stream",
     "text": [
      "             sentence                                \n",
      "                count unique                 top freq\n",
      "label                                                \n",
      "agent             457    333               agent   29\n",
      "hello             125     24               hello   75\n",
      "negfdbk           131    121                 wtf    4\n",
      "refundstatus      940    888  where is my refund   11\n"
     ]
    }
   ],
   "source": [
    "print(train.groupby(\"label\").describe())"
   ]
  },
  {
   "cell_type": "code",
   "execution_count": 52,
   "metadata": {},
   "outputs": [
    {
     "name": "stdout",
     "output_type": "stream",
     "text": [
      "             sentence                                \n",
      "                count unique                 top freq\n",
      "label                                                \n",
      "agent             146    124               agent    6\n",
      "hello              42     10               hello   25\n",
      "negfdbk            52     51                  no    2\n",
      "refundstatus      312    302  where is my refund    4\n"
     ]
    }
   ],
   "source": [
    "print(test.groupby(\"label\").describe())"
   ]
  },
  {
   "cell_type": "code",
   "execution_count": 50,
   "metadata": {},
   "outputs": [],
   "source": [
    "train = train[train.label.str.match('agent|hello|negfdbk|refundstatus')]\n",
    "test = test[test.label.str.match('agent|hello|negfdbk|refundstatus')]"
   ]
  },
  {
   "cell_type": "code",
   "execution_count": 65,
   "metadata": {},
   "outputs": [],
   "source": [
    "train[\"sentence\"].to_csv(\"../chat_data/train/train_4i.in\",  index = False)"
   ]
  },
  {
   "cell_type": "code",
   "execution_count": 61,
   "metadata": {},
   "outputs": [],
   "source": [
    "train[\"label\"].to_csv(\"../chat_data/train/train_4i.label\",  index = False)"
   ]
  },
  {
   "cell_type": "code",
   "execution_count": 77,
   "metadata": {},
   "outputs": [],
   "source": [
    "test[\"label\"].to_csv(\"../chat_data/test/test_4i.label\",  index = False)"
   ]
  },
  {
   "cell_type": "code",
   "execution_count": 78,
   "metadata": {},
   "outputs": [],
   "source": [
    "test[\"sentence\"].to_csv(\"../chat_data/test/test_4i.in\",  index = False)"
   ]
  },
  {
   "cell_type": "code",
   "execution_count": 68,
   "metadata": {},
   "outputs": [
    {
     "name": "stdout",
     "output_type": "stream",
     "text": [
      "       sentence         label\n",
      "count       552           552\n",
      "unique      486             4\n",
      "top       hello  refundstatus\n",
      "freq         25           312\n"
     ]
    }
   ],
   "source": [
    "print(test.describe())"
   ]
  },
  {
   "cell_type": "code",
   "execution_count": 71,
   "metadata": {},
   "outputs": [],
   "source": [
    "test=test.drop_duplicates() "
   ]
  },
  {
   "cell_type": "code",
   "execution_count": 72,
   "metadata": {},
   "outputs": [
    {
     "name": "stdout",
     "output_type": "stream",
     "text": [
      "       sentence         label\n",
      "count       487           487\n",
      "unique      486             4\n",
      "top        help  refundstatus\n",
      "freq          2           302\n"
     ]
    }
   ],
   "source": [
    "print(test.describe())"
   ]
  },
  {
   "cell_type": "code",
   "execution_count": 76,
   "metadata": {},
   "outputs": [
    {
     "data": {
      "text/html": [
       "<div>\n",
       "<style scoped>\n",
       "    .dataframe tbody tr th:only-of-type {\n",
       "        vertical-align: middle;\n",
       "    }\n",
       "\n",
       "    .dataframe tbody tr th {\n",
       "        vertical-align: top;\n",
       "    }\n",
       "\n",
       "    .dataframe thead th {\n",
       "        text-align: right;\n",
       "    }\n",
       "</style>\n",
       "<table border=\"1\" class=\"dataframe\">\n",
       "  <thead>\n",
       "    <tr style=\"text-align: right;\">\n",
       "      <th></th>\n",
       "      <th>sentence</th>\n",
       "      <th>label</th>\n",
       "    </tr>\n",
       "  </thead>\n",
       "  <tbody>\n",
       "    <tr>\n",
       "      <th>285</th>\n",
       "      <td>help</td>\n",
       "      <td>negfdbk</td>\n",
       "    </tr>\n",
       "    <tr>\n",
       "      <th>286</th>\n",
       "      <td>help</td>\n",
       "      <td>agent</td>\n",
       "    </tr>\n",
       "    <tr>\n",
       "      <th>587</th>\n",
       "      <td>help</td>\n",
       "      <td>agent</td>\n",
       "    </tr>\n",
       "    <tr>\n",
       "      <th>2201</th>\n",
       "      <td>help</td>\n",
       "      <td>agent</td>\n",
       "    </tr>\n",
       "    <tr>\n",
       "      <th>2402</th>\n",
       "      <td>help</td>\n",
       "      <td>negfdbk</td>\n",
       "    </tr>\n",
       "    <tr>\n",
       "      <th>2491</th>\n",
       "      <td>help</td>\n",
       "      <td>agent</td>\n",
       "    </tr>\n",
       "  </tbody>\n",
       "</table>\n",
       "</div>"
      ],
      "text/plain": [
       "     sentence    label\n",
       "285      help  negfdbk\n",
       "286      help    agent\n",
       "587      help    agent\n",
       "2201     help    agent\n",
       "2402     help  negfdbk\n",
       "2491     help    agent"
      ]
     },
     "execution_count": 76,
     "metadata": {},
     "output_type": "execute_result"
    }
   ],
   "source": [
    "train[train.sentence==\"help\"]"
   ]
  },
  {
   "cell_type": "code",
   "execution_count": null,
   "metadata": {},
   "outputs": [],
   "source": []
  }
 ],
 "metadata": {
  "kernelspec": {
   "display_name": "Python 3",
   "language": "python",
   "name": "python3"
  },
  "language_info": {
   "codemirror_mode": {
    "name": "ipython",
    "version": 3
   },
   "file_extension": ".py",
   "mimetype": "text/x-python",
   "name": "python",
   "nbconvert_exporter": "python",
   "pygments_lexer": "ipython3",
   "version": "3.5.2"
  }
 },
 "nbformat": 4,
 "nbformat_minor": 2
}
